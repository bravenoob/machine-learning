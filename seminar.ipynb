{
 "cells": [
  {
   "cell_type": "code",
   "execution_count": 5,
   "metadata": {
    "scrolled": false,
    "slideshow": {
     "slide_type": "skip"
    }
   },
   "outputs": [],
   "source": [
    "# Add all necessary imports here\n",
    "import numpy as np\n",
    "import matplotlib.pyplot as plt\n",
    "from IPython.display import IFrame\n",
    "%matplotlib inline\n",
    "plt.style.reload_library()\n",
    "plt.style.use(\"seaborn-dark-palette\")"
   ]
  },
  {
   "cell_type": "markdown",
   "metadata": {
    "scrolled": true,
    "slideshow": {
     "slide_type": "slide"
    }
   },
   "source": [
    "<image>\n",
    "<section data-background=\"cover.gif\" data-state=\"img-transparent no-title-footer\">\n",
    "<div class=\"intro-body\">\n",
    "<div class=\"intro_h1\"><h1>Jupyter + Reveal.js</h1></div>\n",
    "<h3>Some more interactive examples...</h3>\n",
    "<p><strong><span class=\"a\">Dat Tran</span></strong> <span class=\"b\"></span> <span><a href=\"http://dat-tran.com/\" target=\"_blank\">www.dat-tran.com</a></span></p>\n",
    "<p>&nbsp;</p>\n",
    "<p>&nbsp;</p>\n",
    "</div>\n",
    "</section>\n",
    "</image>"
   ]
  },
  {
   "cell_type": "code",
   "execution_count": 16,
   "metadata": {
    "collapsed": true,
    "slideshow": {
     "slide_type": "slide"
    }
   },
   "outputs": [
    {
     "data": {
      "text/html": [
       "<image>\n",
       "<section data-background='cover.gif' data-state=\"img-transparent no-title-footer\">\n",
       "<div class=\"intro-body\">\n",
       "<div class=\"intro_h1\"><h1>Jupyter + Reveal.js</h1></div>\n",
       "<h3>Some more interactive examples...</h3>\n",
       "<p><strong><span class=\"a\">Dat Tran</span></strong> <span class=\"b\"></span> <span><a href=\"http://dat-tran.com/\" target=\"_blank\">www.dat-tran.com</a></span></p>\n",
       "<p>&nbsp;</p>\n",
       "<p>&nbsp;</p>\n",
       "</div>\n",
       "</section>\n",
       "</image>"
      ],
      "text/plain": [
       "<IPython.core.display.HTML object>"
      ]
     },
     "metadata": {},
     "output_type": "display_data"
    }
   ],
   "source": [
    "from IPython.core.display import display, HTML\n",
    "\n",
    "\n",
    "cover = \"\"\"<image>\n",
    "<section data-background='cover.gif' data-state=\"img-transparent no-title-footer\">\n",
    "<div class=\"intro-body\">\n",
    "<div class=\"intro_h1\"><h1>Jupyter + Reveal.js</h1></div>\n",
    "<h3>Some more interactive examples...</h3>\n",
    "<p><strong><span class=\"a\">Dat Tran</span></strong> <span class=\"b\"></span> <span><a href=\"http://dat-tran.com/\" target=\"_blank\">www.dat-tran.com</a></span></p>\n",
    "<p>&nbsp;</p>\n",
    "<p>&nbsp;</p>\n",
    "</div>\n",
    "</section>\n",
    "</image>\"\"\"\n",
    "\n",
    "display(HTML(cover))"
   ]
  },
  {
   "cell_type": "code",
   "execution_count": 23,
   "metadata": {
    "slideshow": {
     "slide_type": "slide"
    }
   },
   "outputs": [
    {
     "data": {
      "text/html": [
       "<image>\n",
       "<section data-background=\"cover.gif\" data-state=\"img-transparent no-title-footer\">\n",
       "<div class=\"intro-body\">\n",
       "<div class=\"intro_h1\"><h1>Jupyter + Reveal.js</h1></div>\n",
       "<h3>Some more interactive examples...</h3>\n",
       "<p><strong><span class=\"a\">Dat Tran</span></strong> <span class=\"b\"></span> <span><a href=\"http://dat-tran.com/\" target=\"_blank\">www.dat-tran.com</a></span></p>\n",
       "<p>&nbsp;</p>\n",
       "<p>&nbsp;</p>\n",
       "</div>\n",
       "</section>\n",
       "</image>"
      ],
      "text/plain": [
       "<IPython.core.display.HTML object>"
      ]
     },
     "metadata": {},
     "output_type": "display_data"
    }
   ],
   "source": [
    "%%html\n",
    "<image>\n",
    "<section data-background=\"cover.gif\" data-state=\"img-transparent no-title-footer\">\n",
    "<div class=\"intro-body\">\n",
    "<div class=\"intro_h1\"><h1>Jupyter + Reveal.js</h1></div>\n",
    "<h3>Some more interactive examples...</h3>\n",
    "<p><strong><span class=\"a\">Dat Tran</span></strong> <span class=\"b\"></span> <span><a href=\"http://dat-tran.com/\" target=\"_blank\">www.dat-tran.com</a></span></p>\n",
    "<p>&nbsp;</p>\n",
    "<p>&nbsp;</p>\n",
    "</div>\n",
    "</section>\n",
    "</image>"
   ]
  },
  {
   "cell_type": "code",
   "execution_count": 26,
   "metadata": {
    "slideshow": {
     "slide_type": "slide"
    }
   },
   "outputs": [
    {
     "data": {
      "text/html": [
       "<div id=\"overlay\"><img src=\"cover.gif\" alt=\"Be patient...\" /></div>"
      ],
      "text/plain": [
       "<IPython.core.display.HTML object>"
      ]
     },
     "metadata": {},
     "output_type": "display_data"
    }
   ],
   "source": [
    "%%html\n",
    "<div id=\"overlay\"><img src=\"cover.gif\" alt=\"Be patient...\" /></div>"
   ]
  },
  {
   "cell_type": "code",
   "execution_count": null,
   "metadata": {
    "slideshow": {
     "slide_type": "slide"
    }
   },
   "outputs": [],
   "source": [
    "![title](cover.gif)"
   ]
  },
  {
   "cell_type": "code",
   "execution_count": null,
   "metadata": {},
   "outputs": [],
   "source": []
  }
 ],
 "metadata": {
  "celltoolbar": "Slideshow",
  "kernelspec": {
   "display_name": "Python 3",
   "language": "python",
   "name": "python3"
  },
  "language_info": {
   "codemirror_mode": {
    "name": "ipython",
    "version": 3
   },
   "file_extension": ".py",
   "mimetype": "text/x-python",
   "name": "python",
   "nbconvert_exporter": "python",
   "pygments_lexer": "ipython3",
   "version": "3.6.4"
  },
  "livereveal": {
   "autolaunch": true,
   "enable_chalkboard": true
  }
 },
 "nbformat": 4,
 "nbformat_minor": 2
}
